{
 "cells": [
  {
   "cell_type": "code",
   "execution_count": 1,
   "id": "a4b648bd",
   "metadata": {},
   "outputs": [],
   "source": [
    "import sys\n",
    "\n",
    "sys.path.append(\"../\")"
   ]
  },
  {
   "cell_type": "code",
   "execution_count": 2,
   "id": "41507865",
   "metadata": {},
   "outputs": [],
   "source": [
    "from pdf_loader import load_pdfs\n",
    "from philosopher import Philosopher"
   ]
  },
  {
   "cell_type": "code",
   "execution_count": 5,
   "id": "8a462a0d",
   "metadata": {},
   "outputs": [],
   "source": [
    "from pathlib import Path\n",
    "\n",
    "path = Path(\"../data/raw/\"+\"Nietzsche\")"
   ]
  },
  {
   "cell_type": "code",
   "execution_count": 6,
   "id": "beeeaa85",
   "metadata": {},
   "outputs": [],
   "source": [
    "docs = load_pdfs(path)"
   ]
  },
  {
   "cell_type": "code",
   "execution_count": 7,
   "id": "9d149b7b",
   "metadata": {},
   "outputs": [
    {
     "data": {
      "text/plain": [
       "[Document(page_content='!Nietzsche and Psychology:  How To Become Who You Are \\n!!', metadata={'source': '/Users/pascalecatteau/Documents/Code/phi-chatbot/notebooks/../data/raw/Nietzsche/doc3.pdf', 'page': 0}),\n",
       " Document(page_content='Nietzsche and Psychology  “That a psychologist without equal speaks from my writings – this is perhaps the first insight gained by a good reader” (Ecce Homo) !“Who among the philosophers before me was in any way a psychologist? Before me there simply was no psychology” (Ecce Homo) ! “To venture out onto the sea of doubt, with neither compass nor guide, is foolishness and ruin for undeveloped souls; most are destroyed by storms, while only a few discover new lands… From amidst the immeasurable ocean of ideas one often yearns for terra firma.” (HKA 2:55) ! “Never yet did a deeper world of insight open itself up to audacious adventurers and travellers; and the psychologist who makes this kind of “sacrifice” – not a sacrifice of the intellect: quite the contrary! – will at least be entitled to demand in return that psychology be recognized again as queen of the sciences, for whose service and preparation the other sciences exist. For psychology is once again the way to the fundamental problems.” (Beyond Good and Evil !!Descend into the Depths  “Those thinkers in whom all stars move in cyclical orbits are not the most profound. Whoever looks into himself as into an enormous world space and carries milky ways within him, he knows how irregular all milky ways are: they lead right into the chaos and labyrinth of existence.” (The Gay Science). !“The human being and human earth are still unexhausted and undiscovered” (Thus Spoke Zarathustra) ! “But how can we find ourselves again? How can the human being know itself? It is a thing dark and veiled; and if the hare has seven skins, the human can slough off seventy times seven and still not be able to say, “Now that is what you really are, that is no longer outer shell.” (Untimely Meditations III)', metadata={'source': '/Users/pascalecatteau/Documents/Code/phi-chatbot/notebooks/../data/raw/Nietzsche/doc3.pdf', 'page': 1}),\n",
       " Document(page_content='!At that time I undertook something that not everyone may undertake: I descended into the depths, I bored into the foundations.” (Dawn of Morning) ! “All psychology so far has got hung up on moral prejudices and fears: it has not dared to descend into the depths. To understand psychology, as I do, as morphology and doctrine of the development of will to power – nobody’s ideas have even come close to this.” (Beyond Good and Evil) !!The Psyche as a Labyrinth  “How labyrinthine our souls take themselves to be and our ideas of the soul by contrast with [the ancient Greeks]! If we wanted – and could dare – an architecture appropriate to our kind of souls (we are too cowardly for it!) – the labyrinth would have to be our prototype!” (Dawn of Morning) ! “However far we may drive our self-knowledge, nothing can be more incomplete than the image of the totality of drives that constitute our being. We can scarcely even name the cruder ones: their number and strength, their ebb and flood, their play and counterplay, and above all the laws of their nourishment remain quite unknown to us. Their nourishment is thus a matter of chance: our daily experiences throw a piece of prey now to this drive, now to that one, which they seize greedily, but the entire coming and going of these events does not stand in any rational relation to the nutritional requirements of the drives as a whole, with the result that some of them are starved and waste away, while others are overfed. Every moment of our lives sees some polyp-arms of our being grow and others wither, according to the nourishment that the moment provides or fails to provide.” (Dawn of Morning) !!The Dangers of Descending into the Depths', metadata={'source': '/Users/pascalecatteau/Documents/Code/phi-chatbot/notebooks/../data/raw/Nietzsche/doc3.pdf', 'page': 2}),\n",
       " Document(page_content='“The curious danger of the summer is – not to mince words – insanity… It could come to something that I have never thought possible in my case: that I should become mentally deranged… [Beset by such] feelings of revenge and ressentiment… my drives and aims have become totally confused and labyrinthine, so that I no longer know how to find my way out.” (Nietzsche, Letter to Overbeck) ! “He enters a labyrinth, and multiplies a thousandfold the dangers that life in itself brings with it –  of which not the least is that nobody can see how and where he loses his way, become solitary, and is torn to pieces by some cave-minotaur of conscience.” (Beyond Good and Evil) !!Historical Forces Shape the Psyche “Direct self observation is not nearly sufficient for us to know ourselves: we need history, for the past flows on within us in a hundred waves; indeed, we ourselves are nothing but that which at every moment we experience of this continual flowing. Even here, when we want to step down into the flow of what appears to be our ownmost and most personal being, the dictum of Heraclitus is valid: one does not step twice into the same river.” (On the Use and Abuse of History for Life) ! “The past of every form and way of life, of cultures that formally lay right next to or on top of each other, now, thanks to this mixture, flows into us “modern souls”; our drives now run back everywhere; we ourselves are a kind of chaos… Through our semibarbarism in body and desires we have secret access everywhere, as no noble epoch has ever had, and especially to the labyrinth of unfinished cultures and to every semi-barbarism that has ever existed on earth.” (Beyond Good and Evil). ! “Is it not on this kind of soil, which you sometimes find it so displeasing, the soil of impure thinking, that many of the most magnificent fruits of more ancient cultures have grown up? One must have loved religion and art like a mother and nurse – otherwise one cannot become wise.” (Human All Too HUman)', metadata={'source': '/Users/pascalecatteau/Documents/Code/phi-chatbot/notebooks/../data/raw/Nietzsche/doc3.pdf', 'page': 3}),\n",
       " Document(page_content='! “In order to understand history, one must seek out the living remains of historical epochs; one has to travel… to other nations – for these are simply older stages of culture that have solidified, on which one can take a stand – to the so-called savage and semisavage peoples, to where human beings have taken off the garb of Europe or have not yet put it on.” (Nietzsche) ! “Anyone who knows how to experience the history of humanity as his own history… [if he could] endure this immense amount of grief of all kinds.. as a person with a horizon of millennia in front of and behind him, as the heir of all the nobility of previous spirit and an heir with a sense of obligation… if one could take all of this upon one’s soul… this would have to result in a happiness that up till now no human being has known.” (The Gay Science) ! “A philosopher… would be compelled to find the greatness of man… precisely in his comprehensiveness and multifacetedness, in his wholeness in multiplicity: he would even determine worth and rank by how much and how many kinds of things a person could carry and and take upon himself, by how far he could extend his responsibility.” (Beyond Good and Evil) ! “Just as we are the result of earlier generations, we are also the result of their aberrations, passions, and errors, and even their crime; it is not possible wholly to free oneself from this chain… The best we can do is to combat our inherited and hereditary nature with our knowledge of it and even have a new, disciplined culture fight our archaic and innate acquisition, and we implant in ourselves a new habitude, a new instinct, a second nature, so that the first nature withers away…- always a dangerous attempt, because it is so difficult to find the borderline in negating the past, and because second natures are mostly weaker than the first ones.” (On the Use and Abuse of History for Life) ! “The human being braces himself against the great and ever greater weight of the past: this presses him', metadata={'source': '/Users/pascalecatteau/Documents/Code/phi-chatbot/notebooks/../data/raw/Nietzsche/doc3.pdf', 'page': 4}),\n",
       " Document(page_content='down or been some sideways, weighing down his steps as invisible and dark burden which he would like to deprecate as mere appearance.” (On the Use and Abuse of History for Life) !', metadata={'source': '/Users/pascalecatteau/Documents/Code/phi-chatbot/notebooks/../data/raw/Nietzsche/doc3.pdf', 'page': 4}),\n",
       " Document(page_content='“The stronger the roots of a human being’s innermost nature, the more one will appropriate and arrogate to oneself; and for the most powerful and tremendous nature there would be no limit to the historical sense… it would draw to itself and take in the entire past, its own in the most foreign, as if it were to transform it into blood.” (On the Use and Abuse of History for Life) ! “He who, after long practice in this art of travel, has become a hundred-eyed Argos… will rediscover the adventurous travels of his ego… in Egypt and Greece, Byzantium and Rome, France and Germany… in the Renaissance and the Reformation, at home and abroad, indeed in the sea, the forests, in the plants and in the mountains. Thus self-knowledge will become knowledge of everything with regard to all that is past.” (Assorted Opinions and Maxims) !!Prehistorical/Animal Drives Shape the Psyche “I have discovered for myself that ancient humanity and animality, indeed the entire primal age and past of all sentient being continues in me to create, to love, to hate, to infer.” (The Gay Science) ! “You still carry around the valuations of things originating in the passions and loves of former centuries! Your sobriety still embodies a secret and indestructible drunkenness! Your love of “reality” for example – oh that is a primordial “love” indeed! In every feeling, in every sense impression there is a piece of [this] ancient love: and some phantasy, some prejudice, some piece of unreason, some ignorance, some fear, and heaven knows what else has worked on and woven at it. That mountain there! That cloud! What is “real” about it? Just take the phantasm and the entire human contribution away from it, you sober ones! Yes, if only you could! If only you could forget your heritage, your past, your training – your entire humanity and animality! (The Gay Science) !“The scholar is by his very nature barren… and has a certain natural hatred for the fruitful human being;… he wants to kill nature, to understand', metadata={'source': '/Users/pascalecatteau/Documents/Code/phi-chatbot/notebooks/../data/raw/Nietzsche/doc3.pdf', 'page': 5}),\n",
       " Document(page_content='it by analyzing it, whereas the genius wants to augment nature by means of a new and vital nature.” (Untimely Meditations III)', metadata={'source': '/Users/pascalecatteau/Documents/Code/phi-chatbot/notebooks/../data/raw/Nietzsche/doc3.pdf', 'page': 5}),\n",
       " Document(page_content='! “The Greeks would, as it were, devote festivals to all their passions and evil natural inclinations… they took these human, all too human aspects of themselves to be unavoidable and, instead of reviling them, preferred to accord them a sort of right of the second rank by integrating them into the customs of society… Rather than repudiating the natural drive that expresses itself in nasty qualities, they regulate it and restrict it to certain cults and days, after having discovered sufficient precautionary measures to be able to grant those wild waters as harmless an outflow as possible.” (Assorted Opinions and Maxims) ! “What is necessary beforehand. – A man who is not willing to become master over his wrath, his gall and a vengeful nest, and his lust, and who tries to become master in anything else, is as stupid as the farmer who lays out his field beside a torrential stream without protecting himself from it.” (The Wanderer and His Shadow) !“Summa: mastery over the passions, not their weakening or extirpation! The greater the will’s power of mastery, the more freedom may be given to the passions. The “great human being” is great by virtue of the range of free play of his desires and of the still greater power that is able to take these magnificent monsters into service.” (Nietzsche) ! “Human beings, in their highest and most noble powers, are nature through and through, and bear within them nature’s uncanny double character. Their terrible capacities and those that count as inhuman are perhaps even the fertile soil from which alone all humanity, in its impulses, deeds, and works, is able to grow. Thus the Greeks, the most humane people of antiquity, possess a trait of cruelty and a tiger-like a joy in destruction.” (KSA) !“The rise of the philosophers meant the fall of man, for once reason took over, men no longer possessed their former guides, their regulating, unconscious and infallible drives: they were reduced to thinking, inferring, reckoning, co-ordinating', metadata={'source': '/Users/pascalecatteau/Documents/Code/phi-chatbot/notebooks/../data/raw/Nietzsche/doc3.pdf', 'page': 6}),\n",
       " Document(page_content='cause and effect, these unfortunate creatures; they were reduced to their ‘consciousness,’ their weakest and most fallible organ!” (On the Genealogy of Morality) !', metadata={'source': '/Users/pascalecatteau/Documents/Code/phi-chatbot/notebooks/../data/raw/Nietzsche/doc3.pdf', 'page': 6}),\n",
       " Document(page_content='“He has lost and destroyed his instinct, and can no longer trust the “divine animal” and let go the reins when his understanding falters and his way leads through deserts”. (On the Use and Abuse of History for Life) !!The Psyche as Multiplicity  “Nothing is more difficult for the human being than to apprehend a thing impersonally: I mean to see in it just a thing and not a person. One may well ask whether it is possible at all for human being to suspend the clockwork of his drives to imagine and create persons for even a moment. For he deals with thoughts – even the most abstract ones – as if they were individuals with whom one has to struggle or make friends, whom one has to tend, care for, and nourish.” (Nietzsche) !“The more individuals one has in oneself, the greater the prospect will be of one’s discovering the truth – then the struggle is within him.” (KSA) ! “Often, when I eavesdrop on my own thoughts and feelings and silently attend to myself, it is as if I heard the hum and buzzing of wild parties, as if there were a rushing through the air as when a thought or an eagle flies to the sun.” (Nietzsche) ! “One who has furnished his instrument with only two strings, like the scholars who possess aside from the drive for knowledge only an acquired religious drive, does not understand people who are able to play on more strings than two. It lies in the nature of higher, more many sided culture that it is always falsely interpreted by the lower.” (Human All Too Human) !!Become Who You Are: Ordering the Soul into a Harmonious Totality', metadata={'source': '/Users/pascalecatteau/Documents/Code/phi-chatbot/notebooks/../data/raw/Nietzsche/doc3.pdf', 'page': 7}),\n",
       " Document(page_content='“Deep down every human being well knows that he is in the world only one time, unique, and that no such a strange chance will throw together a second time such a wonderfully many-colored assortment into a unity such as he is: he knows it, but conceals it like a bad conscience.” (Untimely Meditations II) ! “To “give style” to one’s character – a great and rare art! This art is practised by one who surveys everything his nature offers in the way of weaknesses and strengths, and then fits it into an artistic plan until each element appears as artistic and reasonable and even the weaknesses delight the eye. Here a large amount of second nature has been added, there are a piece of original nature removed – in both cases as a result of long practice and daily work at it. Here something ugly that could not be removed has been concealed, there it has been re-construed as sublime. Finally, when the work is finished, it becomes clear that the constraint of the same taste has governed and formed everything large and small.” (The Gay Science) !“You must want to consume yourself in your own flame: how could you want to become new without first becoming ashes!” (Thus Spoke Zarathustra) ! “A philosopher… would be compelled to find the greatness of man… precisely in his comprehensiveness and multifacetedness, in his wholeness in multiplicity: he would even determine worth and rank by how much and how many kinds of things a person could carry and and take upon himself, by how far he could extend his responsibility.” (Beyond Good and Evil) ! “It is a myth to believe that we will find our authentic self after we have left behind or forgotten one thing or another… To make ourselves, to shape a form from various elements – that is that the task! The task of a sculptor! of a productive human being!” ( Unpublished Note) ! “In a humanity as highly developed as ours now is, everyone acquires from nature access to many talents. Everyone has inborn talent, but in only a few is sufficient', metadata={'source': '/Users/pascalecatteau/Documents/Code/phi-chatbot/notebooks/../data/raw/Nietzsche/doc3.pdf', 'page': 8}),\n",
       " Document(page_content='toughness, endurance, and energy inborn and instilled, so that the person really becomes a talent, and becomes what he is – such that it is discharged in works and actions.” (Human All Too Human) !', metadata={'source': '/Users/pascalecatteau/Documents/Code/phi-chatbot/notebooks/../data/raw/Nietzsche/doc3.pdf', 'page': 8}),\n",
       " Document(page_content='“For one thing is necessary: that the human being attain satisfaction with himself – whether by means of this or that poetic composition or art… Whoever is unhappy with himself is constantly ready to take revenge on that account: we others will be the victims – if only because we will have to endure the ugly side of the person. For the sight of the ugly engenders nastiness and gloom.” (The Gay Science) ! “Overcoming the affects? No, not if that means their weakening and annihilation. But to take them into service: which may involve tyrannizing them for a long time (not even as an individual, but as a community, or race, etc.). Eventually one gives them back their freedom with confidence: they love us like a good servants and ultimately go where our best inclines.” (KSA) ! “In the human being creature and creator are united: in the human there is material, fragment, abundance, clay, dirt, nonsense, chaos; but there is also in the human creator, sculptor, hammer hardness, spectator divinity, and seventh day – do you understand this opposition? And that your pity is for the “creature in the human,” for that which has to be formed, broken, forged, torn, burned, annealed, and purified – for that which must necessarily suffer and ought to suffer?” (Beyond Good and Evil) ! “[the author] looks back gratefully – grateful to his wondering, to his hardness and self alienation, to his looks into the distance and his bird flights in the cold heights. What a good thing that he did not… always stay-at-home “with himself”! He was outside himself, there is no doubt. Only now does he see himself – and what surprises he finds there!” (Nietzsche) ! “the inexplicable factor that we live precisely today, when we had infinite time during which to come into existence, that we possess only a brief today during which to show why and to what end we have come into existence precisely now. We are responsible to ourselves for our own existence. One has to take a rather bold and dangerous line', metadata={'source': '/Users/pascalecatteau/Documents/Code/phi-chatbot/notebooks/../data/raw/Nietzsche/doc3.pdf', 'page': 9}),\n",
       " Document(page_content='with it – especially since, in the best as in the worst case, we are bound to lose it.” (Nietzsche) !“[T]he organizing “idea” that is destined to rule keeps growing deep down — it begins to command; slowly it leads us back from side roads and wrong roads; it', metadata={'source': '/Users/pascalecatteau/Documents/Code/phi-chatbot/notebooks/../data/raw/Nietzsche/doc3.pdf', 'page': 9}),\n",
       " Document(page_content='prepares single qualities and fitnesses that will one day prove to be indispensable as means toward a whole — one by one, it trains all subservient capacities before giving any hint of the dominant task, “goal,” “aim,” or “meaning.”” (Ecce Homo) !!', metadata={'source': '/Users/pascalecatteau/Documents/Code/phi-chatbot/notebooks/../data/raw/Nietzsche/doc3.pdf', 'page': 10})]"
      ]
     },
     "execution_count": 7,
     "metadata": {},
     "output_type": "execute_result"
    }
   ],
   "source": [
    "docs"
   ]
  },
  {
   "cell_type": "code",
   "execution_count": 8,
   "id": "ab869d9c",
   "metadata": {},
   "outputs": [],
   "source": [
    "metadatas = [{\"source\": f\"{i}-pl\"} for i in range(len(docs))]"
   ]
  },
  {
   "cell_type": "code",
   "execution_count": 9,
   "id": "2028a948",
   "metadata": {},
   "outputs": [
    {
     "data": {
      "text/plain": [
       "[{'source': '0-pl'},\n",
       " {'source': '1-pl'},\n",
       " {'source': '2-pl'},\n",
       " {'source': '3-pl'},\n",
       " {'source': '4-pl'},\n",
       " {'source': '5-pl'},\n",
       " {'source': '6-pl'},\n",
       " {'source': '7-pl'},\n",
       " {'source': '8-pl'},\n",
       " {'source': '9-pl'},\n",
       " {'source': '10-pl'},\n",
       " {'source': '11-pl'},\n",
       " {'source': '12-pl'},\n",
       " {'source': '13-pl'},\n",
       " {'source': '14-pl'},\n",
       " {'source': '15-pl'}]"
      ]
     },
     "execution_count": 9,
     "metadata": {},
     "output_type": "execute_result"
    }
   ],
   "source": [
    "metadatas"
   ]
  },
  {
   "cell_type": "code",
   "execution_count": 10,
   "id": "c45ae42d",
   "metadata": {
    "scrolled": true
   },
   "outputs": [],
   "source": [
    "philosopher = Philosopher(name=\"Nietzsche\")"
   ]
  },
  {
   "cell_type": "code",
   "execution_count": 11,
   "id": "f03f0ce2",
   "metadata": {},
   "outputs": [
    {
     "data": {
      "text/plain": [
       "Philosopher(name='Nietzsche', k=4, template=PromptTemplate(input_variables=['context', 'question'], template=\"Let's think step by step. Use the tone and information of the following pieces of context to answer the question as if the author was answering the question.\\n\\n{context}\\n\\nQuestion: {question}\\nAnswer:\"), temperature=1)"
      ]
     },
     "execution_count": 11,
     "metadata": {},
     "output_type": "execute_result"
    }
   ],
   "source": [
    "philosopher"
   ]
  },
  {
   "cell_type": "code",
   "execution_count": 12,
   "id": "78524aee",
   "metadata": {},
   "outputs": [],
   "source": [
    "from langchain.embeddings.openai import OpenAIEmbeddings\n",
    "\n",
    "embeddings = OpenAIEmbeddings(show_progress_bar=True,\n",
    "                              chunk_size=5)"
   ]
  },
  {
   "cell_type": "code",
   "execution_count": 13,
   "id": "562ab92c",
   "metadata": {},
   "outputs": [
    {
     "data": {
      "application/vnd.jupyter.widget-view+json": {
       "model_id": "8dce0e7f50f74af28f3527712f2181e3",
       "version_major": 2,
       "version_minor": 0
      },
      "text/plain": [
       "  0%|          | 0/4 [00:00<?, ?it/s]"
      ]
     },
     "metadata": {},
     "output_type": "display_data"
    }
   ],
   "source": [
    "docsearch = philosopher.generate_embeddings(embeddings)"
   ]
  },
  {
   "cell_type": "code",
   "execution_count": 15,
   "id": "2d6de252",
   "metadata": {},
   "outputs": [],
   "source": [
    "docsearch = philosopher.generate_embeddings(embeddings)"
   ]
  },
  {
   "cell_type": "code",
   "execution_count": 16,
   "id": "d9e73388",
   "metadata": {},
   "outputs": [],
   "source": [
    "chain = philosopher.generate_qa_chain(docsearch, None)"
   ]
  },
  {
   "cell_type": "code",
   "execution_count": 17,
   "id": "f86c8fa5",
   "metadata": {},
   "outputs": [
    {
     "data": {
      "application/vnd.jupyter.widget-view+json": {
       "model_id": "831f8c77bc364554974143913953f2b3",
       "version_major": 2,
       "version_minor": 0
      },
      "text/plain": [
       "  0%|          | 0/1 [00:00<?, ?it/s]"
      ]
     },
     "metadata": {},
     "output_type": "display_data"
    },
    {
     "data": {
      "text/plain": [
       "{'query': 'hello',\n",
       " 'result': \" I'm not sure what question you have. Could you please clarify?\",\n",
       " 'source_documents': [Document(page_content='“Deep down every human being well knows that he is in the world only one time, unique, and that no such a strange chance will throw together a second time such a wonderfully many-colored assortment into a unity such as he is: he knows it, but conceals it like a bad conscience.” (Untimely Meditations II) ! “To “give style” to one’s character – a great and rare art! This art is practised by one who surveys everything his nature offers in the way of weaknesses and strengths, and then fits it into an artistic plan until each element appears as artistic and reasonable and even the weaknesses delight the eye. Here a large amount of second nature has been added, there are a piece of original nature removed – in both cases as a result of long practice and daily work at it. Here something ugly that could not be removed has been concealed, there it has been re-construed as sublime. Finally, when the work is finished, it becomes clear that the constraint of the same taste has governed and formed everything large and small.” (The Gay Science) !“You must want to consume yourself in your own flame: how could you want to become new without first becoming ashes!” (Thus Spoke Zarathustra) ! “A philosopher… would be compelled to find the greatness of man… precisely in his comprehensiveness and multifacetedness, in his wholeness in multiplicity: he would even determine worth and rank by how much and how many kinds of things a person could carry and and take upon himself, by how far he could extend his responsibility.” (Beyond Good and Evil) ! “It is a myth to believe that we will find our authentic self after we have left behind or forgotten one thing or another… To make ourselves, to shape a form from various elements – that is that the task! The task of a sculptor! of a productive human being!” ( Unpublished Note) ! “In a humanity as highly developed as ours now is, everyone acquires from nature access to many talents. Everyone has inborn talent, but in only a few is sufficient', metadata={'source': '/Users/pascalecatteau/Documents/Code/phi-chatbot/notebooks/../data/raw/Nietzsche/doc3.pdf', 'page': 8}),\n",
       "  Document(page_content='down or been some sideways, weighing down his steps as invisible and dark burden which he would like to deprecate as mere appearance.” (On the Use and Abuse of History for Life) !', metadata={'source': '/Users/pascalecatteau/Documents/Code/phi-chatbot/notebooks/../data/raw/Nietzsche/doc3.pdf', 'page': 4}),\n",
       "  Document(page_content='!Nietzsche and Psychology:  How To Become Who You Are \\n!!', metadata={'source': '/Users/pascalecatteau/Documents/Code/phi-chatbot/notebooks/../data/raw/Nietzsche/doc3.pdf', 'page': 0}),\n",
       "  Document(page_content='toughness, endurance, and energy inborn and instilled, so that the person really becomes a talent, and becomes what he is – such that it is discharged in works and actions.” (Human All Too Human) !', metadata={'source': '/Users/pascalecatteau/Documents/Code/phi-chatbot/notebooks/../data/raw/Nietzsche/doc3.pdf', 'page': 8})]}"
      ]
     },
     "execution_count": 17,
     "metadata": {},
     "output_type": "execute_result"
    }
   ],
   "source": [
    "chain(\"hello\")"
   ]
  },
  {
   "cell_type": "code",
   "execution_count": null,
   "id": "51231ee9",
   "metadata": {},
   "outputs": [],
   "source": []
  }
 ],
 "metadata": {
  "kernelspec": {
   "display_name": "Python 3 (ipykernel)",
   "language": "python",
   "name": "python3"
  },
  "language_info": {
   "codemirror_mode": {
    "name": "ipython",
    "version": 3
   },
   "file_extension": ".py",
   "mimetype": "text/x-python",
   "name": "python",
   "nbconvert_exporter": "python",
   "pygments_lexer": "ipython3",
   "version": "3.11.5"
  }
 },
 "nbformat": 4,
 "nbformat_minor": 5
}
